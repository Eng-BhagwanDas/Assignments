{
 "cells": [
  {
   "cell_type": "code",
   "execution_count": null,
   "metadata": {},
   "outputs": [],
   "source": [
    "#   Question # 1: Define Object Oriented Programming Language? \n",
    "\n",
    "#        Object-oriented programming (OOP) is a programming paradigm based on the concept of \"objects\", \n",
    "#        which can contain data, in the form of fields (often known as attributes or properties), \n",
    "#        and code, in the form of procedures (often known as methods).\n",
    "#        OOP languages are diverse, but the most popular ones are class-based,.\n",
    "#        meaning that objects are instances of classes, which also determine their types.\n",
    "\n",
    "\n",
    "#   Question # 2: List down the Benefits of OOP?\n",
    "\n",
    "#        1.Modularity for easier troubleshooting\n",
    "#        2.Reuse of code through inheritance\n",
    "#        3.Flexibility through polymorphism\n",
    "#        4.Effective problem solving\n",
    "\n",
    "\n",
    "#   Question # 3: Differentiate between function and method?\n",
    "\n",
    "#        A function is a piece of code that is called by name. It can be passed data to operate on (i.e. the parameters)\n",
    "#        and can optionally return data (the return value). All data that is passed to a function is explicitly passed.\n",
    "#        A method is a piece of code that is called by a name that is associated with an object.\n",
    "\n",
    "\n",
    "#   Quesstion # 4: Define the following terms:\n",
    "#                  1. Class\n",
    "#                  2. Object\n",
    "#                  3. Attribute\n",
    "#                  4. Behavior\n",
    "\n",
    "#        1. Class \n",
    "#              The class defines all the common properties of the different objects that belong to\n",
    "#        2. Object\n",
    "#              A self-contained entity that consists of both data and procedures to manipulate the data.  \n",
    "#        3. Attribute\n",
    "#              The process of picking out (abstracting) common features of objects and procedures.\n",
    "#        4. Behavior\n",
    "#              The behavior of class or its instances is defined using methods.\n",
    "\n",
    "\n",
    "#   Question 5:\n",
    "#        Write a code in python in which create a class named it Car which\n",
    "#        have 5 attributes such like (model, color and name etc.) and 3\n",
    "#        methods. And create 5 object instance from that class"
   ]
  },
  {
   "cell_type": "code",
   "execution_count": 15,
   "metadata": {},
   "outputs": [],
   "source": [
    "class Car:\n",
    "    def __init__(self,model,color,name,company,number):\n",
    "        self.model=model\n",
    "        self.color=color\n",
    "        self.name=name\n",
    "        self.company=company\n",
    "        self.number=number\n",
    "        \n",
    "    def print_name(self):\n",
    "        print(\"this car name is : \",self.name)\n",
    "            \n",
    "    def print_UPdatecompany(self):\n",
    "        self.company=\"Suzuki\"\n",
    "        print(self.company)\n",
    "            \n",
    "    def print_number(self):\n",
    "        print(self.number)\n",
    "            \n",
    "car1=Car('2019','Black','Corolla','Toyota','Abx-2132')\n",
    "car2=Car('2018','white','VIGO','Toyota','Xayz-212')\n",
    "car3=Car('2017','Red','land Cruiser','Toyota','cda-132')\n",
    "car4=Car('2016','Blue','Civic','Honda','zzw-32')\n",
    "car5=Car('2015','mate Black','City','Honda','Ax-22')\n"
   ]
  },
  {
   "cell_type": "code",
   "execution_count": null,
   "metadata": {},
   "outputs": [],
   "source": []
  }
 ],
 "metadata": {
  "kernelspec": {
   "display_name": "Python 3",
   "language": "python",
   "name": "python3"
  },
  "language_info": {
   "codemirror_mode": {
    "name": "ipython",
    "version": 3
   },
   "file_extension": ".py",
   "mimetype": "text/x-python",
   "name": "python",
   "nbconvert_exporter": "python",
   "pygments_lexer": "ipython3",
   "version": "3.7.4"
  }
 },
 "nbformat": 4,
 "nbformat_minor": 2
}
