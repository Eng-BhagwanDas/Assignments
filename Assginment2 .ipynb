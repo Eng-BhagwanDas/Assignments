{
 "cells": [
  {
   "cell_type": "code",
   "execution_count": 3,
   "metadata": {},
   "outputs": [
    {
     "name": "stdout",
     "output_type": "stream",
     "text": [
      "Please enter the marks of Math out of 100  :87\n",
      "Math Marks=  87  & Percentage  87 % \n",
      "\n",
      "Please enter the marks of Physics out of 100  :87\n",
      "Physics Marks=  87  & Percentage  87 % \n",
      "\n",
      "Please enter the marks of English out of 100  :87\n",
      "English Marks=  87  & Percentage  87 % \n",
      "\n",
      "Please enter the marks of Biology out of 100  :98\n",
      "Biology Marks=  98  & Percentage  98 % \n",
      "\n",
      "Please enter the marks of ICT out of 100  :98\n",
      "ICT Marks=  98  & Percentage  98 % \n",
      "\n",
      "Total Marks Of ['Math', 'Physics', 'English', 'Biology', 'ICT']  = 457\n",
      "Overall Percentage Of ['Math', 'Physics', 'English', 'Biology', 'ICT']  = 91.4 %\n",
      "Your Grade Is A\n"
     ]
    }
   ],
   "source": [
    "# Assginment # 2\n",
    "# Question 1: Write a program which takes 5 inputs from user for different subject’s\n",
    "marks, total it and generate mark sheet using grades ?\n",
    "subjects = [\"Math\",\"Physics\",\"English\",\"Biology\",\"ICT\"];\n",
    "totalmarks=0;\n",
    "subject=[];\n",
    "per=0;\n",
    "for sub in subjects:\n",
    "    user = int(input(\"Please enter the marks of \"+sub +\" out of 100  :\"))\n",
    "    subject.append(sub)\n",
    "    per=(100*user)/100;\n",
    "    print(sub,\"Marks= \",user,\" & Percentage \",int(per),\"%\",\"\\n\");\n",
    "    totalmarks = totalmarks+user;\n",
    "overallpercentage = (totalmarks/500)*100;\n",
    "print(\"Total Marks Of\",subject,\" =\",totalmarks);\n",
    "print(\"Overall Percentage Of\",subject,\" =\",overallpercentage,\"%\");\n",
    "if overallpercentage>=90:\n",
    "    print(\"Your Grade Is A\");\n",
    "elif overallpercentage>=80:\n",
    "    print(\"Your Grade Is B\");\n",
    "elif overallpercentage>=70:\n",
    "    print(\"Your Grade Is C\");\n",
    "else:\n",
    "    print(\"Opps you are fail\");"
   ]
  },
  {
   "cell_type": "code",
   "execution_count": 7,
   "metadata": {},
   "outputs": [
    {
     "ename": "SyntaxError",
     "evalue": "invalid syntax (<ipython-input-7-3aabbd3f3813>, line 3)",
     "output_type": "error",
     "traceback": [
      "\u001b[1;36m  File \u001b[1;32m\"<ipython-input-7-3aabbd3f3813>\"\u001b[1;36m, line \u001b[1;32m3\u001b[0m\n\u001b[1;33m    if num%2=0:\u001b[0m\n\u001b[1;37m            ^\u001b[0m\n\u001b[1;31mSyntaxError\u001b[0m\u001b[1;31m:\u001b[0m invalid syntax\n"
     ]
    }
   ],
   "source": [
    "# Question # 2: Write a program which take input from user and identify that the given number is even or odd?\n",
    "num = int(input(\"Please enter any number here \"));\n",
    "if num%2=0:\n",
    "    print(\"Even \",num);\n",
    "else:\n",
    "    print(\"Odd \",num)"
   ]
  },
  {
   "cell_type": "code",
   "execution_count": 8,
   "metadata": {},
   "outputs": [
    {
     "ename": "SyntaxError",
     "evalue": "invalid syntax (<ipython-input-8-3aabbd3f3813>, line 3)",
     "output_type": "error",
     "traceback": [
      "\u001b[1;36m  File \u001b[1;32m\"<ipython-input-8-3aabbd3f3813>\"\u001b[1;36m, line \u001b[1;32m3\u001b[0m\n\u001b[1;33m    if num%2=0:\u001b[0m\n\u001b[1;37m            ^\u001b[0m\n\u001b[1;31mSyntaxError\u001b[0m\u001b[1;31m:\u001b[0m invalid syntax\n"
     ]
    }
   ],
   "source": [
    "# Question # 2: Write a program which take input from user and identify that the given number is even or odd?\n",
    "num = int(input(\"Please enter any number here \"));\n",
    "if num%2==0:\n",
    "    print(\"Even \",num);\n",
    "else:\n",
    "    print(\"Odd \",num)"
   ]
  },
  {
   "cell_type": "code",
   "execution_count": 10,
   "metadata": {},
   "outputs": [
    {
     "name": "stdout",
     "output_type": "stream",
     "text": [
      "Please enter any number here 5\n",
      "Odd  5\n"
     ]
    }
   ],
   "source": [
    "# Question # 2: Write a program which take input from user and identify that the given number is even or odd?\n",
    "num = int(input(\"Please enter any number here \"));\n",
    "if num%2==0:\n",
    "    print(\"Even \",num);\n",
    "else:\n",
    "    print(\"Odd \",num)"
   ]
  },
  {
   "cell_type": "code",
   "execution_count": 13,
   "metadata": {},
   "outputs": [
    {
     "name": "stdout",
     "output_type": "stream",
     "text": [
      "7\n"
     ]
    }
   ],
   "source": [
    "# Question 3: Write a program which print the length of the list?\n",
    "List = [1,2,3,4,5,6,7,];\n",
    "print(len(List))"
   ]
  },
  {
   "cell_type": "code",
   "execution_count": 14,
   "metadata": {},
   "outputs": [
    {
     "name": "stdout",
     "output_type": "stream",
     "text": [
      "16\n"
     ]
    }
   ],
   "source": [
    "# Question 4: Write a Python program to sum all the numeric items in a list?\n",
    "List =[5,7,9,4,8];\n",
    "for num in List:\n",
    "    Sumlist = num + num;\n",
    "print(Sumlist)"
   ]
  },
  {
   "cell_type": "code",
   "execution_count": 15,
   "metadata": {},
   "outputs": [
    {
     "name": "stdout",
     "output_type": "stream",
     "text": [
      "8\n"
     ]
    }
   ],
   "source": [
    "# Question # 5: Write a Python program to get the largest number from a numeric list.\n",
    "List = [1,5,7,8,4];\n",
    "print(max(List));"
   ]
  },
  {
   "cell_type": "code",
   "execution_count": 16,
   "metadata": {},
   "outputs": [
    {
     "name": "stdout",
     "output_type": "stream",
     "text": [
      "1\n",
      "1\n",
      "2\n",
      "3\n",
      "5\n"
     ]
    }
   ],
   "source": [
    "# Question # 6 Take a list, say for example this one, a = [1, 1, 2, 3, 5, 8, 13, 21, 34, 55, 89]\n",
    "# and write a program that prints out all the elements of the list that are\n",
    "# less than 5.\n",
    "a = [1, 1, 2, 3, 5, 8, 13, 21, 34, 55, 89];\n",
    "for num in a:\n",
    "    if num <=5:\n",
    "        print(num)"
   ]
  },
  {
   "cell_type": "code",
   "execution_count": null,
   "metadata": {},
   "outputs": [],
   "source": []
  }
 ],
 "metadata": {
  "kernelspec": {
   "display_name": "Python 3",
   "language": "python",
   "name": "python3"
  },
  "language_info": {
   "codemirror_mode": {
    "name": "ipython",
    "version": 3
   },
   "file_extension": ".py",
   "mimetype": "text/x-python",
   "name": "python",
   "nbconvert_exporter": "python",
   "pygments_lexer": "ipython3",
   "version": "3.7.4"
  }
 },
 "nbformat": 4,
 "nbformat_minor": 2
}
