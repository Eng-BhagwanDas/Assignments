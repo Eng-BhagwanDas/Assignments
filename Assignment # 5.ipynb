{
 "cells": [
  {
   "cell_type": "code",
   "execution_count": 2,
   "metadata": {},
   "outputs": [
    {
     "name": "stdout",
     "output_type": "stream",
     "text": [
      "Enter a number: 7\n",
      "The factorial of 7 is 5040\n"
     ]
    }
   ],
   "source": [
    "# Question # 1 Write a Python function to calculate the factorial of a number (a non-negative integer). \n",
    "#The function accepts the number as an argument.\n",
    "\n",
    "num = int(input(\"Enter a number: \"))\n",
    "factorial = 1\n",
    "# check if the number is negative, positive or zero\n",
    "if num < 0:\n",
    "   print(\"Sorry, factorial does not exist for negative numbers\")\n",
    "elif num == 0:\n",
    "   print(\"The factorial of 0 is 1\")\n",
    "else:\n",
    "   for i in range(1,num + 1):\n",
    "       factorial = factorial*i\n",
    "   print(\"The factorial of\",num,\"is\",factorial)"
   ]
  },
  {
   "cell_type": "code",
   "execution_count": 3,
   "metadata": {},
   "outputs": [
    {
     "name": "stdout",
     "output_type": "stream",
     "text": [
      "Original String :  The Samation Is Dimention\n",
      "No. of Upper case characters :  4\n",
      "No. of Lower case Characters :  18\n"
     ]
    }
   ],
   "source": [
    "# Question # 2 Write a Python function that accepts a string and calculate the number of upper\n",
    "#case letters and lower case letters.\n",
    "\n",
    "def string_test(s):\n",
    "    d={\"UPPER_CASE\":0, \"LOWER_CASE\":0}\n",
    "    for c in s:\n",
    "        if c.isupper():\n",
    "           d[\"UPPER_CASE\"]+=1\n",
    "        elif c.islower():\n",
    "           d[\"LOWER_CASE\"]+=1\n",
    "        else:\n",
    "           pass\n",
    "    print (\"Original String : \", s)\n",
    "    print (\"No. of Upper case characters : \", d[\"UPPER_CASE\"])\n",
    "    print (\"No. of Lower case Characters : \", d[\"LOWER_CASE\"])\n",
    "\n",
    "string_test('The Samation Is Dimention')"
   ]
  },
  {
   "cell_type": "code",
   "execution_count": 4,
   "metadata": {},
   "outputs": [
    {
     "name": "stdout",
     "output_type": "stream",
     "text": [
      "10 4 66 "
     ]
    }
   ],
   "source": [
    "# Question # 3 Write a Python function to print the even numbers from a given list. \n",
    "\n",
    "# list of numbers \n",
    "list1 = [10, 21, 4, 45, 66, 93]   \n",
    "for num in list1: \n",
    "    if num % 2 == 0: \n",
    "       print(num, end = \" \") "
   ]
  },
  {
   "cell_type": "code",
   "execution_count": 6,
   "metadata": {},
   "outputs": [
    {
     "name": "stdout",
     "output_type": "stream",
     "text": [
      "The string is a palindrome.\n"
     ]
    }
   ],
   "source": [
    "# Question # 4 Write a Python function that checks whether a passed string is palindrome or not.\n",
    "#Note: A palindrome is a word, phrase, or sequence that reads the same backward as forward, e.g., madam\n",
    "# Program to check if a string is palindrome or not\n",
    "\n",
    "my_str = 'Madam'\n",
    "my_str = my_str.casefold()\n",
    "# reverse the string\n",
    "rev_str = reversed(my_str)\n",
    "# check if the string is equal to its reverse\n",
    "if list(my_str) == list(rev_str):\n",
    "   print(\"The string is a palindrome.\")\n",
    "else:\n",
    "   print(\"The string is not a palindrome.\")"
   ]
  },
  {
   "cell_type": "code",
   "execution_count": 9,
   "metadata": {},
   "outputs": [
    {
     "name": "stdout",
     "output_type": "stream",
     "text": [
      "Enter a number: 9\n",
      "9 is not a prime number\n"
     ]
    }
   ],
   "source": [
    "#Question # 5 Write a Python function that takes a number as a parameter and check the\n",
    "\n",
    "number is prime or not.\n",
    "# To take input from the user\n",
    "num = int(input(\"Enter a number: \"))\n",
    "# prime numbers are greater than 1\n",
    "if num > 1:\n",
    "   # check for factors\n",
    "   for i in range(2,num):\n",
    "       if (num % i) == 0:\n",
    "           print(num,\"is not a prime number\")\n",
    "           break\n",
    "   else:\n",
    "       print(num,\"is a prime number\")\n",
    "       \n",
    "# if input number is less than\n",
    "# or equal to 1, it is not prime\n",
    "else:\n",
    "   print(num,\"is not a prime number\")"
   ]
  },
  {
   "cell_type": "code",
   "execution_count": 11,
   "metadata": {},
   "outputs": [
    {
     "name": "stdout",
     "output_type": "stream",
     "text": [
      "You Selected apple\n",
      "You Selected banana\n",
      "You Selected vegetables\n"
     ]
    }
   ],
   "source": [
    "#Question # 6 Suppose a customer is shopping in a market and you need to print all the items\n",
    "#which user bought from market. Write a function which accepts the multiple arguments of user shopping list and\n",
    "\n",
    "print all the items which user bought from market.\n",
    "def shoping(*items):\n",
    "   for item in items:\n",
    "        print(\"You Selected\",item)\n",
    "shoping('apple','banana','vegetables')"
   ]
  },
  {
   "cell_type": "code",
   "execution_count": null,
   "metadata": {},
   "outputs": [],
   "source": []
  }
 ],
 "metadata": {
  "kernelspec": {
   "display_name": "Python 3",
   "language": "python",
   "name": "python3"
  },
  "language_info": {
   "codemirror_mode": {
    "name": "ipython",
    "version": 3
   },
   "file_extension": ".py",
   "mimetype": "text/x-python",
   "name": "python",
   "nbconvert_exporter": "python",
   "pygments_lexer": "ipython3",
   "version": "3.7.4"
  }
 },
 "nbformat": 4,
 "nbformat_minor": 2
}
