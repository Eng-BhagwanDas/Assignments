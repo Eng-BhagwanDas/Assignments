{
 "cells": [
  {
   "cell_type": "code",
   "execution_count": 1,
   "metadata": {},
   "outputs": [
    {
     "name": "stdout",
     "output_type": "stream",
     "text": [
      "Please Enter 1st Number  3\n",
      "Please Press + , - , * , /, p for power  p\n",
      "Power Of 4\n",
      "81\n"
     ]
    }
   ],
   "source": [
    "#Question # 1: Make a calculator using Python with addition , subtraction , multiplication ,\n",
    "#division and power.\n",
    "p = pow\n",
    "num1 = int(input(\"Please Enter 1st Number  \"))\n",
    "do =   input(\"Please Press + , - , * , /, p for power  \")\n",
    "if do == '+':\n",
    "    num2 = int(input(\"Please Enter 2nd Number  \"))\n",
    "    add = num1 + num2;\n",
    "    print(add)\n",
    "elif do == '-':\n",
    "    num2 = int(input(\"Please Enter 2nd Number  \"))\n",
    "    sub = num1 - num2;\n",
    "    print(sub)\n",
    "elif do == '*':\n",
    "    num2 = int(input(\"Please Enter 2nd Number  \"))\n",
    "    multi = num1 * num2;\n",
    "    print(multi)\n",
    "elif do == '/':\n",
    "    num2 = int(input(\"Please Enter 2nd Number  \"))\n",
    "    div = float(num1 / num2);\n",
    "    print(div)\n",
    "elif do == 'p':\n",
    "    num2 = int(input(\"Power Of \"))\n",
    "    power = num1**num2\n",
    "    print(power)\n",
    "else:\n",
    "    print(\"Invalid\")"
   ]
  },
  {
   "cell_type": "code",
   "execution_count": 7,
   "metadata": {},
   "outputs": [
    {
     "name": "stdout",
     "output_type": "stream",
     "text": [
      "2\n",
      "3\n",
      "7\n",
      "5\n",
      "1\n",
      "4\n",
      "7\n",
      "7\n"
     ]
    }
   ],
   "source": [
    "# Question 2 : Write a program to check if there is any numeric value in list using for loop\n",
    "list = [\"q\",\"w\",\"2\",\"3\",7,5,\"e\",\"r\",\"t\",\"1\",\"4\",7,7,\"i\"]\n",
    "for a_list in list:\n",
    "    num = str(a_list)\n",
    "    if  num.isnumeric() == True:\n",
    "        print(a_list)"
   ]
  },
  {
   "cell_type": "code",
   "execution_count": 8,
   "metadata": {},
   "outputs": [
    {
     "name": "stdout",
     "output_type": "stream",
     "text": [
      "{'name': 'BD', 'last': 'vk', 'age': '23'}\n"
     ]
    }
   ],
   "source": [
    "# Question 3 : Write a Python script to add a key to dictionary \n",
    "dic = {\"name\":\"BD\",\"last\":\"vk\"}\n",
    "dic[\"age\"] = \"23\"\n",
    "print(dic)"
   ]
  },
  {
   "cell_type": "code",
   "execution_count": 9,
   "metadata": {},
   "outputs": [
    {
     "name": "stdout",
     "output_type": "stream",
     "text": [
      "60\n"
     ]
    }
   ],
   "source": [
    "# Question 4 : Write a Python program to sum all the numeric items in a dictionary\n",
    "dic = {\"a\":10,\"b\":20,\"c\":30}\n",
    "print(sum(dic.values()))"
   ]
  },
  {
   "cell_type": "code",
   "execution_count": 11,
   "metadata": {},
   "outputs": [
    {
     "ename": "TypeError",
     "evalue": "'list' object is not callable",
     "output_type": "error",
     "traceback": [
      "\u001b[1;31m---------------------------------------------------------------------------\u001b[0m",
      "\u001b[1;31mTypeError\u001b[0m                                 Traceback (most recent call last)",
      "\u001b[1;32m<ipython-input-11-9dd0ed948a58>\u001b[0m in \u001b[0;36m<module>\u001b[1;34m\u001b[0m\n\u001b[0;32m      1\u001b[0m \u001b[1;31m# Question 5 : Write a program to identify duplicate values from list\u001b[0m\u001b[1;33m\u001b[0m\u001b[1;33m\u001b[0m\u001b[1;33m\u001b[0m\u001b[0m\n\u001b[0;32m      2\u001b[0m \u001b[0ml1\u001b[0m \u001b[1;33m=\u001b[0m \u001b[1;33m[\u001b[0m\u001b[1;36m1\u001b[0m\u001b[1;33m,\u001b[0m\u001b[1;36m2\u001b[0m\u001b[1;33m,\u001b[0m\u001b[1;36m3\u001b[0m\u001b[1;33m,\u001b[0m\u001b[1;36m4\u001b[0m\u001b[1;33m,\u001b[0m\u001b[1;36m5\u001b[0m\u001b[1;33m,\u001b[0m\u001b[1;36m4\u001b[0m\u001b[1;33m,\u001b[0m\u001b[1;36m3\u001b[0m\u001b[1;33m,\u001b[0m\u001b[1;36m2\u001b[0m\u001b[1;33m,\u001b[0m\u001b[1;36m7\u001b[0m\u001b[1;33m,\u001b[0m\u001b[1;36m9\u001b[0m\u001b[1;33m,\u001b[0m\u001b[1;36m7\u001b[0m\u001b[1;33m,\u001b[0m\u001b[1;36m89\u001b[0m\u001b[1;33m]\u001b[0m\u001b[1;33m\u001b[0m\u001b[1;33m\u001b[0m\u001b[0m\n\u001b[1;32m----> 3\u001b[1;33m \u001b[0mlist2\u001b[0m \u001b[1;33m=\u001b[0m \u001b[0mlist\u001b[0m\u001b[1;33m(\u001b[0m\u001b[0mset\u001b[0m\u001b[1;33m(\u001b[0m\u001b[0ml1\u001b[0m\u001b[1;33m)\u001b[0m\u001b[1;33m)\u001b[0m\u001b[1;33m\u001b[0m\u001b[1;33m\u001b[0m\u001b[0m\n\u001b[0m\u001b[0;32m      4\u001b[0m \u001b[1;32mfor\u001b[0m \u001b[0mrmelement\u001b[0m \u001b[1;32min\u001b[0m \u001b[0ml2\u001b[0m\u001b[1;33m:\u001b[0m\u001b[1;33m\u001b[0m\u001b[1;33m\u001b[0m\u001b[0m\n\u001b[0;32m      5\u001b[0m     \u001b[1;32mif\u001b[0m \u001b[0mrmelement\u001b[0m \u001b[1;32min\u001b[0m \u001b[0ml2\u001b[0m\u001b[1;33m:\u001b[0m\u001b[1;33m\u001b[0m\u001b[1;33m\u001b[0m\u001b[0m\n",
      "\u001b[1;31mTypeError\u001b[0m: 'list' object is not callable"
     ]
    }
   ],
   "source": []
  },
  {
   "cell_type": "code",
   "execution_count": null,
   "metadata": {},
   "outputs": [],
   "source": [
    "# Question 5 : Write a program to identify duplicate values from list\n",
    "list1 = [1,2,3,4,5,4,3,2,7,9,7,89]\n",
    "list2 = list(set(list1))\n",
    "for rmelement in list2:\n",
    "    if rmelement in list1:\n",
    "        list1.remove(rmelement)\n",
    "print(list(set(list1)))"
   ]
  },
  {
   "cell_type": "code",
   "execution_count": null,
   "metadata": {},
   "outputs": [],
   "source": []
  }
 ],
 "metadata": {
  "kernelspec": {
   "display_name": "Python 3",
   "language": "python",
   "name": "python3"
  },
  "language_info": {
   "codemirror_mode": {
    "name": "ipython",
    "version": 3
   },
   "file_extension": ".py",
   "mimetype": "text/x-python",
   "name": "python",
   "nbconvert_exporter": "python",
   "pygments_lexer": "ipython3",
   "version": "3.7.4"
  }
 },
 "nbformat": 4,
 "nbformat_minor": 2
}
