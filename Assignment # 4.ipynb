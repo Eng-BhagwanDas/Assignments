{
 "cells": [
  {
   "cell_type": "code",
   "execution_count": 53,
   "metadata": {},
   "outputs": [
    {
     "name": "stdout",
     "output_type": "stream",
     "text": [
      "First Name : Bhagwan Last Name : Das age : 27 \n",
      "\n",
      "Add a new key value pair about qualification\n",
      "{'first_name': 'Bhagwan', 'last_name': 'Das', 'age': '27', 'qualification': '12th'} \n",
      "\n",
      "update the qualification value to high academic level\n",
      "{'first_name': 'Bhagwan', 'last_name': 'Das', 'age': '27', 'qualification': 'Graduation'}\n",
      "\n",
      "delete it the key of qualification\n",
      "{'first_name': 'Bhagwan', 'last_name': 'Das', 'age': '27'}\n"
     ]
    }
   ],
   "source": [
    "#Question1:\n",
    "#Use a dictionary to store information about a person you know. Store their first name, last name, age,\n",
    "#and the city in which they live. You should have keys such as first_name, last_name, age, and city. Print\n",
    "#each piece of information stored in your dictionary. Add a new key value pair about qualification then\n",
    "#update the qualification value to high academic level then delete it..\n",
    "\n",
    "person={\n",
    "    'first_name': 'Bhagwan',\n",
    "    'last_name' : 'Das',\n",
    "    'age' : '27',\n",
    "}\n",
    "print ('First Name : '+person['first_name']+' Last Name : '+person['last_name']+' age : '+person['age'],'\\n')\n",
    "print('Add a new key value pair about qualification') \n",
    "person['qualification']='12th'\n",
    "print(person,'\\n')\n",
    "print(\"update the qualification value to high academic level\")\n",
    "person.update(qualification='Graduation')\n",
    "print(person)\n",
    "del person['qualification']\n",
    "print(\"\\ndelete it the key of qualification\")\n",
    "print(person)"
   ]
  },
  {
   "cell_type": "code",
   "execution_count": 3,
   "metadata": {},
   "outputs": [
    {
     "name": "stdout",
     "output_type": "stream",
     "text": [
      "\n",
      "Karachi\n",
      "\n",
      "country : Pakistan\n",
      "population : 15741000\n",
      "fact : Called Light Of City\n",
      "\n",
      "KPK\n",
      "\n",
      "country : Pakistan\n",
      "population : 5000000\n",
      "fact : Nature Of Beauti\n",
      "\n",
      "Mirpurkhas\n",
      "\n",
      "country : Pakistan\n",
      "population : 505876\n",
      "fact : known as mongo sweet\n"
     ]
    }
   ],
   "source": [
    "#Question2:\n",
    "#Make a dictionary called cities. Use the names of three cities as keys in your dictionary. Create a\n",
    "#dictionary of information about each city and include the country that the city is in, its approximate\n",
    "#population, and one fact about that city. The keys for each city’s dictionary should be something like\n",
    "#country, population, and fact. Print the name of each city and all of the information you have stored\n",
    "#about it.\n",
    "cities = {\n",
    "    'Karachi': {\n",
    "        'country': 'Pakistan',\n",
    "        'population': 15741000,\n",
    "        'fact': 'Called Light Of City',\n",
    "        },\n",
    "    'KPK': {\n",
    "        'country': 'Pakistan',\n",
    "        'population': 5000000,\n",
    "        'fact': 'Nature Of Beauti',\n",
    "        },\n",
    "    'Mirpurkhas': {\n",
    "        'country': 'Pakistan',\n",
    "        'population': 505876,\n",
    "        'fact': 'known as mongo sweet',\n",
    "        }\n",
    "    }\n",
    "for citykey,cityinfo in cities.items():\n",
    "    print(\"\\n\"+citykey+\"\\n\")\n",
    "    for city in cityinfo:\n",
    "        print(city+\" : \"+str(cityinfo[city]))"
   ]
  },
  {
   "cell_type": "code",
   "execution_count": 5,
   "metadata": {},
   "outputs": [
    {
     "name": "stdout",
     "output_type": "stream",
     "text": [
      "Enter age : 12\n",
      "Ticket is 10$\n",
      "Are you want to take ticket y/n: y\n",
      "Enter age : 23\n",
      "Ticket is 15$\n",
      "Are you want to take ticket y/n: y\n",
      "Enter age : 12\n",
      "Ticket is 10$\n",
      "Are you want to take ticket y/n: n\n"
     ]
    }
   ],
   "source": [
    "#Question3:\n",
    "#A movie theater charges different ticket prices depending on a person’s age. \n",
    "#If a person is under the age of 3, the ticket is free; \n",
    "#if they are between 3 and 12, the ticket is $10; and if they are over age 12, the ticket is $15. \n",
    "#Write a loop in which you ask users their age, and then tell them the cost of their movie ticket.\n",
    "flag='y'\n",
    "while flag!='n':\n",
    "    age=int(input(\"Enter age : \"))\n",
    "    if age>12:\n",
    "        print(\"Ticket is 15$\")\n",
    "    elif age>=3:\n",
    "        print(\"Ticket is 10$\")\n",
    "    else:\n",
    "        print(\"Ticket is free\")\n",
    "    flag=input(\"Are you want to take ticket y/n: \")"
   ]
  },
  {
   "cell_type": "code",
   "execution_count": 7,
   "metadata": {},
   "outputs": [
    {
     "name": "stdout",
     "output_type": "stream",
     "text": [
      "One of my favorite books is Alice in Wonderland.\n"
     ]
    }
   ],
   "source": [
    "#Question4:\n",
    "#Write a function called favorite_book() that accepts one parameter, title. \n",
    "#The function should print a message, such as One of my favorite books is Alice in Wonderland. \n",
    "#Call the function, making sure to include a book title as an argument in the function call.\n",
    "\n",
    "def favorite_book(title):\n",
    "    print(title)\n",
    "book_title=\"One of my favorite books is Alice in Wonderland.\"\n",
    "if(len(book_title)!=0):\n",
    "    favorite_book(book_title)\n",
    "else:\n",
    "    print(\"Please populate the book title\")"
   ]
  },
  {
   "cell_type": "code",
   "execution_count": 8,
   "metadata": {},
   "outputs": [
    {
     "name": "stdout",
     "output_type": "stream",
     "text": [
      "Enter number between 1 and 30: 6\n",
      "Hidden number is greater\n",
      "\n",
      "Enter number between 1 and 30: 4\n",
      "Hidden number is greater\n",
      "\n",
      "Enter number between 1 and 30: 30\n",
      "Hidden number is Smaller\n",
      "\n"
     ]
    }
   ],
   "source": [
    "\n",
    "'''Question5:\n",
    "Guess the number game\n",
    "Write a program which randomly generate a number between 1 to 30 and ask the user in input field to guess the correct number. Give three chances to user guess the number and also give hint to user if hidden number is greater or smaller than the number he given to input field.\n",
    "'''\n",
    "import random\n",
    "c=0\n",
    "rNumber=0\n",
    "while c<3:\n",
    "    rNumber=int(random.randrange(1,30))\n",
    "    userNumber=int(input(\"Enter number between 1 and 30: \"))\n",
    "    c=c+1\n",
    "    if rNumber>userNumber:\n",
    "        print(\"Hidden number is greater\\n\")\n",
    "    elif rNumber<userNumber:\n",
    "        print(\"Hidden number is Smaller\\n\")\n",
    "    else:\n",
    "        print(\"Hidden number is equal\\n\")"
   ]
  },
  {
   "cell_type": "code",
   "execution_count": null,
   "metadata": {},
   "outputs": [],
   "source": []
  }
 ],
 "metadata": {
  "kernelspec": {
   "display_name": "Python 3",
   "language": "python",
   "name": "python3"
  },
  "language_info": {
   "codemirror_mode": {
    "name": "ipython",
    "version": 3
   },
   "file_extension": ".py",
   "mimetype": "text/x-python",
   "name": "python",
   "nbconvert_exporter": "python",
   "pygments_lexer": "ipython3",
   "version": "3.7.4"
  }
 },
 "nbformat": 4,
 "nbformat_minor": 2
}
